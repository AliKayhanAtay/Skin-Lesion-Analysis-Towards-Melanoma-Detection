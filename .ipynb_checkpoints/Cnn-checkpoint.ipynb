{
 "cells": [
  {
   "cell_type": "code",
   "execution_count": 1,
   "metadata": {},
   "outputs": [],
   "source": [
    "import torch\n",
    "import torch.nn as nn\n",
    "import torch.optim as optim\n",
    "from torch.optim import lr_scheduler\n",
    "from torch.utils.data import Dataset, DataLoader, Subset\n",
    "\n",
    "import torchvision\n",
    "from torchvision import datasets, models, transforms\n",
    "\n",
    "import pandas as pd\n",
    "import numpy as np\n",
    "from sklearn.model_selection import KFold\n",
    "from sklearn.metrics import accuracy_score, roc_auc_score, balanced_accuracy_score\n",
    "from PIL import Image\n",
    "import matplotlib.pyplot as plt\n",
    "\n",
    "import os\n",
    "import copy\n",
    "import time\n",
    "import pickle\n",
    "import gc\n",
    "from tqdm.notebook import tqdm\n",
    "from joblib import Parallel, delayed\n",
    "import pretrainedmodels"
   ]
  },
  {
   "cell_type": "code",
   "execution_count": 2,
   "metadata": {},
   "outputs": [],
   "source": [
    "maindir = os.getcwd()\n",
    "df = pd.read_csv('data/ISIC_2019_Training_GroundTruth.csv')"
   ]
  },
  {
   "cell_type": "code",
   "execution_count": 3,
   "metadata": {},
   "outputs": [],
   "source": [
    "def resizer(image, maindir=maindir):\n",
    "    r = os.path.join(maindir, 'data\\ISIC_2019_Training_Input\\ISIC_2019_Training_Input', image) + '.jpg'\n",
    "    w = os.path.join(maindir, 'data\\ISIC_2019_Training_Input\\ISIC_2019_Training_Input_resized', image) + '.jpg'\n",
    "    Image.open(r).resize((224,224), Image.NEAREST).save(w)"
   ]
  },
  {
   "cell_type": "code",
   "execution_count": 4,
   "metadata": {},
   "outputs": [],
   "source": [
    "#Parallel(n_jobs=8)(delayed(resizer)(i) for i in df['image'].tolist());"
   ]
  },
  {
   "cell_type": "code",
   "execution_count": 5,
   "metadata": {},
   "outputs": [],
   "source": [
    "mapping = {e:i for i, e in enumerate(df.iloc[:,1:].idxmax(1).unique())}\n",
    "df['label_'] = df.iloc[:,1:].idxmax(1)\n",
    "df['label']  = df['label_'].map(mapping)\n",
    "df['fold']   = -1\n",
    "\n",
    "fold_n = 10\n",
    "skf = KFold(n_splits=fold_n)\n",
    "for fold, (train_idx, test_idx) in enumerate(skf.split(df['label']), start=1):\n",
    "    df.loc[test_idx, 'fold'] =  fold\n",
    "    \n",
    "debug = False\n",
    "if debug:\n",
    "    df.groupby(['label','fold']).head(10).to_csv('data/ISIC_2019_Training_GroundTruth_folded.csv', index=False)\n",
    "else:\n",
    "    df.to_csv('data/ISIC_2019_Training_GroundTruth_folded.csv', index=False)\n",
    "    \n",
    "device = torch.device(\"cuda:0\" if torch.cuda.is_available() else \"cpu\")"
   ]
  },
  {
   "cell_type": "code",
   "execution_count": 6,
   "metadata": {},
   "outputs": [],
   "source": [
    "class MyCustomDataset(Dataset):\n",
    "    def __init__(self, folder, fold, dtype, transform=None):\n",
    "        self.dtype = dtype\n",
    "        if self.dtype == 'train':\n",
    "            self.df = pd.read_csv('data/ISIC_2019_Training_GroundTruth_folded.csv')\n",
    "            self.df = self.df[self.df['fold'] != fold]\n",
    "        elif self.dtype == 'valid':\n",
    "            self.df = pd.read_csv('data/ISIC_2019_Training_GroundTruth_folded.csv')\n",
    "            self.df = self.df[self.df['fold'] == fold]\n",
    "        else:\n",
    "            self.df = pd.read_csv('data/ISIC_2019_Training_GroundTruth_folded.csv')\n",
    "            self.df = self.df.groupby(['label_']).sample(10)\n",
    "            \n",
    "        self.folder     = folder\n",
    "        self.transform  = transform\n",
    "        self.classes    = self.df['label_'].unique()\n",
    "        self.n_classes  = len(self.classes)\n",
    "        \n",
    "    def __len__(self):\n",
    "        return len(self.df)\n",
    "        \n",
    "    def __getitem__(self, index):\n",
    "        path = os.path.join(self.folder, self.df.iloc[index]['image'] + '.jpg')\n",
    "        x = Image.open(path)\n",
    "        if self.transform: x = self.transform(x)\n",
    "        y = torch.tensor(self.df.iloc[index]['label'], dtype=torch.long)\n",
    "    \n",
    "        return x, y, index"
   ]
  },
  {
   "cell_type": "code",
   "execution_count": 7,
   "metadata": {},
   "outputs": [],
   "source": [
    "mean = [0.485, 0.456, 0.406]\n",
    "std  = [0.229, 0.224, 0.225]\n",
    "size = (512, 512)\n",
    "tmfs = {\n",
    "        'train' : transforms.Compose([\n",
    "                        transforms.RandomRotation(45, resample=False, expand=False, center=None, fill=None),\n",
    "                        transforms.RandomVerticalFlip(p=0.5),\n",
    "                        transforms.Resize(size, interpolation=2),\n",
    "                        transforms.ToTensor(),\n",
    "                        transforms.Normalize(mean=mean, std=std, inplace=False)\n",
    "                   ]),\n",
    "        'valid'  : transforms.Compose([\n",
    "                        transforms.Resize(size, interpolation=2),\n",
    "                        transforms.ToTensor(),\n",
    "                        transforms.Normalize(mean=mean, std=std, inplace=False)\n",
    "                   ]),\n",
    "        'test' : transforms.Compose([\n",
    "                        transforms.Resize(size, interpolation=2),\n",
    "                        transforms.ToTensor(),\n",
    "                        transforms.Normalize(mean=mean, std=std, inplace=False)\n",
    "                   ])\n",
    "       }"
   ]
  },
  {
   "cell_type": "code",
   "execution_count": 8,
   "metadata": {},
   "outputs": [],
   "source": [
    "def train_model(model, dataloader, dataset_sizes, criterion, optimizer, scheduler, num_epochs=10):\n",
    "    since = time.time()\n",
    "\n",
    "    best_model_wts = copy.deepcopy(model.state_dict())\n",
    "    best_acc = 0.0\n",
    "\n",
    "    for epoch in range(num_epochs):\n",
    "        print('Epoch {}/{}'.format(epoch, num_epochs - 1))\n",
    "        print('-' * 10)\n",
    "\n",
    "        for phase in ['train', 'valid']:\n",
    "            if phase == 'train': model.train()\n",
    "            else               : model.eval()\n",
    "                \n",
    "            running_loss     = 0.0\n",
    "            running_corrects = 0\n",
    "\n",
    "            for inputs, labels, index in tqdm(dataloader[phase]):\n",
    "                inputs = inputs.to(device)\n",
    "                labels = labels.to(device)\n",
    "\n",
    "                optimizer.zero_grad()\n",
    "\n",
    "                with torch.set_grad_enabled(phase == 'train'):\n",
    "                    outputs = model(inputs)\n",
    "                    _, preds = torch.max(outputs, 1)\n",
    "                    loss = criterion(outputs, labels)\n",
    "\n",
    "                    if phase == 'train':\n",
    "                        loss.backward()\n",
    "                        optimizer.step()\n",
    "\n",
    "                running_loss += loss.item() * inputs.size(0)\n",
    "                running_corrects += torch.sum(preds == labels.data)\n",
    "            if phase == 'train':\n",
    "                scheduler.step()\n",
    "\n",
    "            epoch_loss = running_loss / dataset_sizes[phase]\n",
    "            epoch_acc = running_corrects.double() / dataset_sizes[phase]\n",
    "\n",
    "            print('{} Loss: {:.4f} Acc: {:.4f}'.format(\n",
    "                phase, epoch_loss, epoch_acc))\n",
    "\n",
    "            if phase == 'valid' and epoch_acc > best_acc:\n",
    "                best_acc = epoch_acc\n",
    "                best_model_wts = copy.deepcopy(model.state_dict())\n",
    "\n",
    "        print()\n",
    "\n",
    "    time_elapsed = time.time() - since\n",
    "    print('Training complete in {:.0f}m {:.0f}s'.format(\n",
    "        time_elapsed // 60, time_elapsed % 60))\n",
    "    print('Best val Acc: {:4f}'.format(best_acc))\n",
    "\n",
    "    model.load_state_dict(best_model_wts)\n",
    "    return model"
   ]
  },
  {
   "cell_type": "code",
   "execution_count": 9,
   "metadata": {},
   "outputs": [],
   "source": [
    "def main():\n",
    "    datadir = os.path.join(maindir, 'data\\ISIC_2019_Training_Input\\ISIC_2019_Training_Input')\n",
    "    out_models = {}\n",
    "    for fold in range(1, fold_n+1):\n",
    "        print(f'Fold : {fold}')\n",
    "        transformed_dataset = {e:MyCustomDataset(datadir, fold, e, transform=tmfs[e]) for e in ['train','valid']}\n",
    "        dataset_sizes       = {e: len(transformed_dataset[e]) for e in ['train', 'valid']}\n",
    "        dataloader          = {e:DataLoader(transformed_dataset[e], batch_size=4, shuffle=True, num_workers=0) for e in ['train','valid']}\n",
    "        n_classes           = transformed_dataset['train'].n_classes\n",
    "\n",
    "        #model     = models.resnet18(pretrained=True)\n",
    "        #num_ftrs  = model.fc.in_features\n",
    "        #num_ftrs = model.fc.in_features\n",
    "        #model.fc  = nn.Linear(num_ftrs, n_classes)\n",
    "        \n",
    "        model_name = 'inceptionv4'\n",
    "        model = pretrainedmodels.__dict__[model_name](num_classes=1000, pretrained='imagenet')        \n",
    "        num_ftrs = last_linear = model.last_linear.in_features\n",
    "        model.last_linear  = nn.Linear(num_ftrs, n_classes)\n",
    "        \n",
    "        model     = model.to(device)\n",
    "        criterion = nn.CrossEntropyLoss()\n",
    "\n",
    "        optimizer = optim.SGD(model.parameters(), lr=0.001, momentum=0.9)\n",
    "\n",
    "        exp_lr_scheduler = lr_scheduler.StepLR(optimizer, step_size=7, gamma=0.1)    \n",
    "\n",
    "        model = train_model(model, dataloader, dataset_sizes, criterion, optimizer, exp_lr_scheduler)\n",
    "        out_models[f'Fold_{fold}'] = model\n",
    "    \n",
    "    return out_models"
   ]
  },
  {
   "cell_type": "code",
   "execution_count": null,
   "metadata": {},
   "outputs": [
    {
     "name": "stdout",
     "output_type": "stream",
     "text": [
      "Fold : 1\n",
      "Epoch 0/9\n",
      "----------\n"
     ]
    },
    {
     "data": {
      "application/vnd.jupyter.widget-view+json": {
       "model_id": "0fe6286123a243a5a0d46d204793ca53",
       "version_major": 2,
       "version_minor": 0
      },
      "text/plain": [
       "HBox(children=(HTML(value=''), FloatProgress(value=0.0, max=5700.0), HTML(value='')))"
      ]
     },
     "metadata": {},
     "output_type": "display_data"
    }
   ],
   "source": [
    "if os.path.exists('trianed_cv_models.pickle'):\n",
    "    with open('trianed_cv_models.pickle', 'rb') as handle:\n",
    "        out_models = pickle.load(handle)\n",
    "    pass\n",
    "else:\n",
    "    out_models = main()\n",
    "    with open('trianed_cv_models.pickle', 'wb') as handle:\n",
    "        pickle.dump(out_models, handle, protocol=pickle.HIGHEST_PROTOCOL)"
   ]
  },
  {
   "cell_type": "code",
   "execution_count": null,
   "metadata": {},
   "outputs": [],
   "source": []
  },
  {
   "cell_type": "code",
   "execution_count": null,
   "metadata": {},
   "outputs": [],
   "source": [
    "datadir       = os.path.join(maindir, 'data\\ISIC_2019_Training_Input\\ISIC_2019_Training_Input')\n",
    "valid_dataset = MyCustomDataset(datadir, _, 'test', transform=tmfs['test'])\n",
    "dataloader    = DataLoader(valid_dataset, batch_size=64)"
   ]
  },
  {
   "cell_type": "code",
   "execution_count": null,
   "metadata": {},
   "outputs": [],
   "source": [
    "for fold, model in out_models.items():\n",
    "    model = model.to(device)\n",
    "    model.eval()\n",
    "    valid_dataset.df[f'preds_{fold}'] = -1\n",
    "    for x, y, index in dataloader:\n",
    "        x = x.to(device)\n",
    "        _, preds = torch.max(model(x), 1)\n",
    "        _ = valid_dataset.df.iloc[index.tolist(), valid_dataset.df.columns.get_loc(f'preds_{fold}')] = index.tolist()"
   ]
  },
  {
   "cell_type": "code",
   "execution_count": null,
   "metadata": {},
   "outputs": [],
   "source": [
    "y_true, y_pred = valid_dataset.df['label'].to_numpy(), valid_dataset.df['preds'].to_numpy()"
   ]
  },
  {
   "cell_type": "code",
   "execution_count": null,
   "metadata": {},
   "outputs": [],
   "source": [
    "accuracy_score_ = accuracy_score(y_true, y_pred)\n",
    "balanced_accuracy_score_ = balanced_accuracy_score(y_true, y_pred)\n",
    "\n",
    "print(f'Balanced Accuracy {balanced_accuracy_score_}' )"
   ]
  },
  {
   "cell_type": "code",
   "execution_count": null,
   "metadata": {},
   "outputs": [],
   "source": []
  },
  {
   "cell_type": "code",
   "execution_count": null,
   "metadata": {},
   "outputs": [],
   "source": []
  },
  {
   "cell_type": "code",
   "execution_count": null,
   "metadata": {},
   "outputs": [],
   "source": []
  },
  {
   "cell_type": "code",
   "execution_count": null,
   "metadata": {},
   "outputs": [],
   "source": []
  },
  {
   "cell_type": "code",
   "execution_count": null,
   "metadata": {},
   "outputs": [],
   "source": []
  }
 ],
 "metadata": {
  "kernelspec": {
   "display_name": "Python 3",
   "language": "python",
   "name": "python3"
  },
  "language_info": {
   "codemirror_mode": {
    "name": "ipython",
    "version": 3
   },
   "file_extension": ".py",
   "mimetype": "text/x-python",
   "name": "python",
   "nbconvert_exporter": "python",
   "pygments_lexer": "ipython3",
   "version": "3.7.8"
  }
 },
 "nbformat": 4,
 "nbformat_minor": 4
}
