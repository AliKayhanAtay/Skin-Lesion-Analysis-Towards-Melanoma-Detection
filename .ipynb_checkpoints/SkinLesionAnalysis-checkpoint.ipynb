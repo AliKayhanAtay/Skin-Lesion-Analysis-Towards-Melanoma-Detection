{
 "cells": [
  {
   "cell_type": "code",
   "execution_count": 1,
   "metadata": {
    "executionInfo": {
     "elapsed": 912,
     "status": "ok",
     "timestamp": 1602446877622,
     "user": {
      "displayName": "Ali Kayhan ATAY",
      "photoUrl": "",
      "userId": "12778947674919346671"
     },
     "user_tz": -180
    },
    "id": "5ZmP2OWr7YA8"
   },
   "outputs": [],
   "source": [
    "import os\n",
    "import zipfile\n",
    "from google.colab import files\n",
    "\n",
    "! pip install -q kaggle\n",
    "files.upload()\n",
    "! mkdir ~/.kaggle\n",
    "! cp kaggle.json ~/.kaggle/\n",
    "! chmod 600 ~/.kaggle/kaggle.json\n",
    "! mkdir /content/data\n",
    "!kaggle datasets download -d andrewmvd/isic-2019\n",
    "\n",
    "with zipfile.ZipFile('/content/isic-2019.zip', 'r') as zip_ref:\n",
    "    zip_ref.extractall('/content/data')"
   ]
  },
  {
   "cell_type": "code",
   "execution_count": null,
   "metadata": {
    "id": "SoNoAn79Npef"
   },
   "outputs": [],
   "source": [
    "# from google.colab import drive\n",
    "# drive.mount('/content/gdrive')\n",
    "\n",
    "# from google.colab import files\n",
    "\n",
    "# with open('example.txt', 'w') as f:\n",
    "#   f.write('some content')\n",
    "\n",
    "# files.download('example.txt')"
   ]
  },
  {
   "cell_type": "code",
   "execution_count": 3,
   "metadata": {
    "colab": {
     "base_uri": "https://localhost:8080/",
     "height": 181
    },
    "executionInfo": {
     "elapsed": 5515,
     "status": "ok",
     "timestamp": 1602446882242,
     "user": {
      "displayName": "Ali Kayhan ATAY",
      "photoUrl": "",
      "userId": "12778947674919346671"
     },
     "user_tz": -180
    },
    "id": "5xkp0gY2I17q",
    "outputId": "e7cdbfc8-cf07-4c4f-be91-91a9345f177b"
   },
   "outputs": [
    {
     "name": "stdout",
     "output_type": "stream",
     "text": [
      "Requirement already satisfied: pretrainedmodels in /usr/local/lib/python3.6/dist-packages (0.7.4)\n",
      "Requirement already satisfied: tqdm in /usr/local/lib/python3.6/dist-packages (from pretrainedmodels) (4.41.1)\n",
      "Requirement already satisfied: torchvision in /usr/local/lib/python3.6/dist-packages (from pretrainedmodels) (0.7.0+cu101)\n",
      "Requirement already satisfied: torch in /usr/local/lib/python3.6/dist-packages (from pretrainedmodels) (1.6.0+cu101)\n",
      "Requirement already satisfied: munch in /usr/local/lib/python3.6/dist-packages (from pretrainedmodels) (2.5.0)\n",
      "Requirement already satisfied: pillow>=4.1.1 in /usr/local/lib/python3.6/dist-packages (from torchvision->pretrainedmodels) (7.0.0)\n",
      "Requirement already satisfied: numpy in /usr/local/lib/python3.6/dist-packages (from torchvision->pretrainedmodels) (1.18.5)\n",
      "Requirement already satisfied: future in /usr/local/lib/python3.6/dist-packages (from torch->pretrainedmodels) (0.16.0)\n",
      "Requirement already satisfied: six in /usr/local/lib/python3.6/dist-packages (from munch->pretrainedmodels) (1.15.0)\n"
     ]
    }
   ],
   "source": [
    "import torch\n",
    "import torch.nn as nn\n",
    "import torch.optim as optim\n",
    "from torch.optim import lr_scheduler\n",
    "from torch.utils.data import Dataset, DataLoader, Subset\n",
    "\n",
    "import torchvision\n",
    "from torchvision import datasets, models, transforms\n",
    "\n",
    "import pandas as pd\n",
    "import numpy as np\n",
    "from sklearn.model_selection import KFold, StratifiedKFold\n",
    "from sklearn.metrics import accuracy_score, roc_auc_score, balanced_accuracy_score\n",
    "from PIL import Image\n",
    "import matplotlib.pyplot as plt\n",
    "\n",
    "import os\n",
    "import copy\n",
    "import time\n",
    "import pickle\n",
    "import gc\n",
    "from tqdm.notebook import tqdm\n",
    "from joblib import Parallel, delayed\n",
    "!pip install pretrainedmodels\n",
    "import pretrainedmodels"
   ]
  },
  {
   "cell_type": "code",
   "execution_count": 4,
   "metadata": {
    "executionInfo": {
     "elapsed": 5509,
     "status": "ok",
     "timestamp": 1602446882243,
     "user": {
      "displayName": "Ali Kayhan ATAY",
      "photoUrl": "",
      "userId": "12778947674919346671"
     },
     "user_tz": -180
    },
    "id": "zsT_BV7qKmAN"
   },
   "outputs": [],
   "source": [
    "maindir = os.getcwd()\n",
    "df = pd.read_csv('data/ISIC_2019_Training_GroundTruth.csv')"
   ]
  },
  {
   "cell_type": "code",
   "execution_count": 5,
   "metadata": {
    "colab": {
     "base_uri": "https://localhost:8080/",
     "height": 74
    },
    "executionInfo": {
     "elapsed": 5928,
     "status": "ok",
     "timestamp": 1602446882670,
     "user": {
      "displayName": "Ali Kayhan ATAY",
      "photoUrl": "",
      "userId": "12778947674919346671"
     },
     "user_tz": -180
    },
    "id": "YzmAtj1xVepE",
    "outputId": "705ee4ed-cbec-45f7-c885-90470ebe0a2e"
   },
   "outputs": [
    {
     "name": "stderr",
     "output_type": "stream",
     "text": [
      "/usr/local/lib/python3.6/dist-packages/sklearn/model_selection/_split.py:296: FutureWarning: Setting a random_state has no effect since shuffle is False. This will raise an error in 0.24. You should leave random_state to its default (None), or set shuffle=True.\n",
      "  FutureWarning\n"
     ]
    }
   ],
   "source": [
    "mapping = {e:i for i, e in enumerate(df.iloc[:,1:].idxmax(1).unique())}\n",
    "df['label_'] = df.iloc[:,1:].idxmax(1)\n",
    "df['label']  = df['label_'].map(mapping)\n",
    "df['fold']   = -1\n",
    "\n",
    "fold_n = 10\n",
    "random_state=111\n",
    "\n",
    "skf = StratifiedKFold(n_splits=fold_n, random_state=random_state )\n",
    "for fold, (train_idx, test_idx) in enumerate(skf.split(df['image'], df['label']), start=1):\n",
    "    df.loc[test_idx, 'fold'] =  fold\n",
    "    \n",
    "debug = False\n",
    "if debug:\n",
    "    df.groupby(['label','fold']).head(10).to_csv('data/ISIC_2019_Training_GroundTruth_folded.csv', index=False)\n",
    "else:\n",
    "    df.to_csv('data/ISIC_2019_Training_GroundTruth_folded.csv', index=False)\n",
    "    \n",
    "device = torch.device(\"cuda:0\" if torch.cuda.is_available() else \"cpu\")"
   ]
  },
  {
   "cell_type": "code",
   "execution_count": 6,
   "metadata": {
    "executionInfo": {
     "elapsed": 5922,
     "status": "ok",
     "timestamp": 1602446882671,
     "user": {
      "displayName": "Ali Kayhan ATAY",
      "photoUrl": "",
      "userId": "12778947674919346671"
     },
     "user_tz": -180
    },
    "id": "-I0iswkME08P"
   },
   "outputs": [],
   "source": [
    "def upsampler(df):\n",
    "  n_upsampler = (1 / (df['label_'].value_counts() / df['label_'].value_counts().max())).round()\n",
    "  for label in n_upsampler.index:\n",
    "    n = n_upsampler[label] - 1\n",
    "    sub_df = df[df['label_']==label]\n",
    "    for i in range(int(n)):\n",
    "      df = df.append(sub_df)\n",
    "  return df"
   ]
  },
  {
   "cell_type": "code",
   "execution_count": 7,
   "metadata": {
    "executionInfo": {
     "elapsed": 5916,
     "status": "ok",
     "timestamp": 1602446882672,
     "user": {
      "displayName": "Ali Kayhan ATAY",
      "photoUrl": "",
      "userId": "12778947674919346671"
     },
     "user_tz": -180
    },
    "id": "KUNDx80AVhNF"
   },
   "outputs": [],
   "source": [
    "class MyCustomDataset(Dataset):\n",
    "    def __init__(self, folder, fold, dtype, transform=None):\n",
    "        self.dtype = dtype\n",
    "        if self.dtype == 'train':\n",
    "            self.df = pd.read_csv('data/ISIC_2019_Training_GroundTruth_folded.csv')\n",
    "            self.df = self.df[self.df['fold'] != fold]\n",
    "            self.df = upsampler(self.df)\n",
    "\n",
    "        elif self.dtype == 'valid':\n",
    "            self.df = pd.read_csv('data/ISIC_2019_Training_GroundTruth_folded.csv')\n",
    "            self.df = self.df[self.df['fold'] == fold]\n",
    "        else:\n",
    "            self.df = pd.read_csv('data/ISIC_2019_Training_GroundTruth_folded.csv')\n",
    "            self.df = self.df.groupby(['label_']).sample(10)\n",
    "            \n",
    "        self.folder     = folder\n",
    "        self.transform  = transform\n",
    "        self.classes    = self.df['label_'].unique()\n",
    "        self.n_classes  = len(self.classes)\n",
    "        \n",
    "    def __len__(self):\n",
    "        return len(self.df)\n",
    "        \n",
    "    def __getitem__(self, index):\n",
    "        path = os.path.join(self.folder, self.df.iloc[index]['image'] + '.jpg')\n",
    "        x = Image.open(path)\n",
    "        if self.transform: x = self.transform(x)\n",
    "        y = torch.tensor(self.df.iloc[index]['label'], dtype=torch.long)\n",
    "    \n",
    "        return x, y, index"
   ]
  },
  {
   "cell_type": "code",
   "execution_count": 8,
   "metadata": {
    "executionInfo": {
     "elapsed": 5911,
     "status": "ok",
     "timestamp": 1602446882672,
     "user": {
      "displayName": "Ali Kayhan ATAY",
      "photoUrl": "",
      "userId": "12778947674919346671"
     },
     "user_tz": -180
    },
    "id": "Rvlbrs6WVi-M"
   },
   "outputs": [],
   "source": [
    "mean = [0.485, 0.456, 0.406]\n",
    "std  = [0.229, 0.224, 0.225]\n",
    "size = (512, 512)\n",
    "tmfs = {\n",
    "        'train' : transforms.Compose([\n",
    "                        transforms.ColorJitter(brightness=0.5, contrast=0.5, saturation=0.5, hue=0.1),\n",
    "                        transforms.RandomPerspective(distortion_scale=0.3, p=0.5, interpolation=3, fill=0),\n",
    "                        transforms.RandomRotation(45, resample=False, expand=False, center=None, fill=None),\n",
    "                        transforms.RandomResizedCrop((512,512), scale=(0.5, 1.0), ratio=(0.75, 1.3333333333333333), interpolation=2),\n",
    "                        transforms.RandomVerticalFlip(p=0.5),\n",
    "                        transforms.Resize(size, interpolation=2),\n",
    "                        transforms.ToTensor(),\n",
    "                        transforms.Normalize(mean=mean, std=std, inplace=False)\n",
    "                   ]),\n",
    "        'valid'  : transforms.Compose([\n",
    "                        transforms.Resize(size, interpolation=2),\n",
    "                        transforms.ToTensor(),\n",
    "                        transforms.Normalize(mean=mean, std=std, inplace=False)\n",
    "                   ]),\n",
    "        'test' : transforms.Compose([\n",
    "                        transforms.Resize(size, interpolation=2),\n",
    "                        transforms.ToTensor(),\n",
    "                        transforms.Normalize(mean=mean, std=std, inplace=False)\n",
    "                   ])\n",
    "       }"
   ]
  },
  {
   "cell_type": "code",
   "execution_count": 9,
   "metadata": {
    "executionInfo": {
     "elapsed": 5907,
     "status": "ok",
     "timestamp": 1602446882673,
     "user": {
      "displayName": "Ali Kayhan ATAY",
      "photoUrl": "",
      "userId": "12778947674919346671"
     },
     "user_tz": -180
    },
    "id": "KU4ppX-rVkTc"
   },
   "outputs": [],
   "source": [
    "def train_model(model, dataloader, dataset_sizes, criterion, optimizer, scheduler, num_epochs=10):\n",
    "    since = time.time()\n",
    "\n",
    "    best_model_wts = copy.deepcopy(model.state_dict())\n",
    "    best_acc = 0.0\n",
    "\n",
    "    for epoch in range(num_epochs):\n",
    "        print('Epoch {}/{}'.format(epoch, num_epochs - 1))\n",
    "        print('-' * 10)\n",
    "\n",
    "        for phase in ['train', 'valid']:\n",
    "            if phase == 'train': model.train()\n",
    "            else               : model.eval()\n",
    "                \n",
    "            running_loss     = 0.0\n",
    "            running_corrects = 0\n",
    "\n",
    "            for inputs, labels, index in tqdm(dataloader[phase]):\n",
    "                inputs = inputs.to(device)\n",
    "                labels = labels.to(device)\n",
    "\n",
    "                optimizer.zero_grad()\n",
    "\n",
    "                with torch.set_grad_enabled(phase == 'train'):\n",
    "                    outputs = model(inputs)\n",
    "                    _, preds = torch.max(outputs, 1)\n",
    "                    loss = criterion(outputs, labels)\n",
    "\n",
    "                    if phase == 'train':\n",
    "                        loss.backward()\n",
    "                        optimizer.step()\n",
    "\n",
    "                running_loss += loss.item() * inputs.size(0)\n",
    "                running_corrects += torch.sum(preds == labels.data)\n",
    "            if phase == 'train':\n",
    "                scheduler.step()\n",
    "\n",
    "            epoch_loss = running_loss / dataset_sizes[phase]\n",
    "            epoch_acc = running_corrects.double() / dataset_sizes[phase]\n",
    "\n",
    "            print('{} Loss: {:.4f} Acc: {:.4f}'.format(\n",
    "                phase, epoch_loss, epoch_acc))\n",
    "\n",
    "            if phase == 'valid' and epoch_acc > best_acc:\n",
    "                best_acc = epoch_acc\n",
    "                best_model_wts = copy.deepcopy(model.state_dict())\n",
    "\n",
    "        print()\n",
    "\n",
    "    time_elapsed = time.time() - since\n",
    "    print('Training complete in {:.0f}m {:.0f}s'.format(\n",
    "        time_elapsed // 60, time_elapsed % 60))\n",
    "    print('Best val Acc: {:4f}'.format(best_acc))\n",
    "\n",
    "    model.load_state_dict(best_model_wts)\n",
    "    return model"
   ]
  },
  {
   "cell_type": "code",
   "execution_count": 10,
   "metadata": {
    "executionInfo": {
     "elapsed": 5901,
     "status": "ok",
     "timestamp": 1602446882673,
     "user": {
      "displayName": "Ali Kayhan ATAY",
      "photoUrl": "",
      "userId": "12778947674919346671"
     },
     "user_tz": -180
    },
    "id": "w5Vjqf3UVlSc"
   },
   "outputs": [],
   "source": [
    "def main():\n",
    "    datadir = os.path.join(maindir, 'data/ISIC_2019_Training_Input/ISIC_2019_Training_Input')\n",
    "    out_models = {}\n",
    "    for fold in range(1, fold_n+1):\n",
    "        print(f'Fold : {fold}')\n",
    "        transformed_dataset = {e:MyCustomDataset(datadir, fold, e, transform=tmfs[e]) for e in ['train','valid']}\n",
    "        dataset_sizes       = {e: len(transformed_dataset[e]) for e in ['train', 'valid']}\n",
    "        dataloader          = {e:DataLoader(transformed_dataset[e], batch_size=16, shuffle=True, num_workers=0) for e in ['train','valid']}\n",
    "        n_classes           = transformed_dataset['train'].n_classes\n",
    "\n",
    "        #model     = models.resnet18(pretrained=True)\n",
    "        #num_ftrs  = model.fc.in_features\n",
    "        #num_ftrs = model.fc.in_features\n",
    "        #model.fc  = nn.Linear(num_ftrs, n_classes)\n",
    "        \n",
    "        model_name = 'inceptionv4'\n",
    "        model = pretrainedmodels.__dict__[model_name](num_classes=1000, pretrained='imagenet')        \n",
    "        num_ftrs = last_linear = model.last_linear.in_features\n",
    "        model.last_linear  = nn.Linear(num_ftrs, n_classes)\n",
    "        \n",
    "        model     = model.to(device)\n",
    "        criterion = nn.CrossEntropyLoss()\n",
    "\n",
    "        optimizer = optim.SGD(model.parameters(), lr=0.001, momentum=0.9)\n",
    "\n",
    "        exp_lr_scheduler = lr_scheduler.StepLR(optimizer, step_size=7, gamma=0.1)    \n",
    "\n",
    "        model = train_model(model, dataloader, dataset_sizes, criterion, optimizer, exp_lr_scheduler)\n",
    "        out_models[f'Fold_{fold}'] = model\n",
    "    \n",
    "    return out_models"
   ]
  },
  {
   "cell_type": "code",
   "execution_count": null,
   "metadata": {
    "colab": {
     "base_uri": "https://localhost:8080/",
     "height": 104,
     "referenced_widgets": [
      "032b9807244a49baa20b592b3fe70c30",
      "bbfc3b3579b24839929e1d0c88451768",
      "c4e22af2904d431295028f15ac668cf3",
      "1ef7dd9977cc41ee8952f71ba22ac4db",
      "e383b7c737d74ec68ba755e412faeba8",
      "a41ac7b150604eabb137be80fe6f9f00",
      "21b869005a634effa0a0baa30bc5c8fe",
      "e668925bf4e34e3983f89525edc3f65a"
     ]
    },
    "id": "vnMJ2QMQVmlF",
    "outputId": "13224380-3b99-426b-c00b-cbb774c2910a"
   },
   "outputs": [
    {
     "name": "stdout",
     "output_type": "stream",
     "text": [
      "Fold : 1\n",
      "Epoch 0/9\n",
      "----------\n"
     ]
    },
    {
     "data": {
      "application/vnd.jupyter.widget-view+json": {
       "model_id": "032b9807244a49baa20b592b3fe70c30",
       "version_major": 2,
       "version_minor": 0
      },
      "text/plain": [
       "HBox(children=(FloatProgress(value=0.0, max=5902.0), HTML(value='')))"
      ]
     },
     "metadata": {
      "tags": []
     },
     "output_type": "display_data"
    }
   ],
   "source": [
    "if os.path.exists('trianed_cv_models.pickle'):\n",
    "    with open('trianed_cv_models.pickle', 'rb') as handle:\n",
    "        out_models = pickle.load(handle)\n",
    "    pass\n",
    "else:\n",
    "    out_models = main()\n",
    "    with open('trianed_cv_models.pickle', 'wb') as handle:\n",
    "        pickle.dump(out_models, handle, protocol=pickle.HIGHEST_PROTOCOL)"
   ]
  }
 ],
 "metadata": {
  "accelerator": "GPU",
  "colab": {
   "authorship_tag": "ABX9TyPalcCsqBbN1K+/pp+gdFMf",
   "collapsed_sections": [],
   "machine_shape": "hm",
   "name": "SkinLesionAnalysis.ipynb",
   "private_outputs": true,
   "provenance": []
  },
  "kernelspec": {
   "display_name": "Python 3",
   "language": "python",
   "name": "python3"
  },
  "language_info": {
   "codemirror_mode": {
    "name": "ipython",
    "version": 3
   },
   "file_extension": ".py",
   "mimetype": "text/x-python",
   "name": "python",
   "nbconvert_exporter": "python",
   "pygments_lexer": "ipython3",
   "version": "3.8.5"
  },
  "widgets": {
   "application/vnd.jupyter.widget-state+json": {
    "032b9807244a49baa20b592b3fe70c30": {
     "model_module": "@jupyter-widgets/controls",
     "model_name": "HBoxModel",
     "state": {
      "_dom_classes": [],
      "_model_module": "@jupyter-widgets/controls",
      "_model_module_version": "1.5.0",
      "_model_name": "HBoxModel",
      "_view_count": null,
      "_view_module": "@jupyter-widgets/controls",
      "_view_module_version": "1.5.0",
      "_view_name": "HBoxView",
      "box_style": "",
      "children": [
       "IPY_MODEL_c4e22af2904d431295028f15ac668cf3",
       "IPY_MODEL_1ef7dd9977cc41ee8952f71ba22ac4db"
      ],
      "layout": "IPY_MODEL_bbfc3b3579b24839929e1d0c88451768"
     }
    },
    "1ef7dd9977cc41ee8952f71ba22ac4db": {
     "model_module": "@jupyter-widgets/controls",
     "model_name": "HTMLModel",
     "state": {
      "_dom_classes": [],
      "_model_module": "@jupyter-widgets/controls",
      "_model_module_version": "1.5.0",
      "_model_name": "HTMLModel",
      "_view_count": null,
      "_view_module": "@jupyter-widgets/controls",
      "_view_module_version": "1.5.0",
      "_view_name": "HTMLView",
      "description": "",
      "description_tooltip": null,
      "layout": "IPY_MODEL_e668925bf4e34e3983f89525edc3f65a",
      "placeholder": "​",
      "style": "IPY_MODEL_21b869005a634effa0a0baa30bc5c8fe",
      "value": " 1201/5902 [1:06:44&lt;4:12:39,  3.22s/it]"
     }
    },
    "21b869005a634effa0a0baa30bc5c8fe": {
     "model_module": "@jupyter-widgets/controls",
     "model_name": "DescriptionStyleModel",
     "state": {
      "_model_module": "@jupyter-widgets/controls",
      "_model_module_version": "1.5.0",
      "_model_name": "DescriptionStyleModel",
      "_view_count": null,
      "_view_module": "@jupyter-widgets/base",
      "_view_module_version": "1.2.0",
      "_view_name": "StyleView",
      "description_width": ""
     }
    },
    "a41ac7b150604eabb137be80fe6f9f00": {
     "model_module": "@jupyter-widgets/base",
     "model_name": "LayoutModel",
     "state": {
      "_model_module": "@jupyter-widgets/base",
      "_model_module_version": "1.2.0",
      "_model_name": "LayoutModel",
      "_view_count": null,
      "_view_module": "@jupyter-widgets/base",
      "_view_module_version": "1.2.0",
      "_view_name": "LayoutView",
      "align_content": null,
      "align_items": null,
      "align_self": null,
      "border": null,
      "bottom": null,
      "display": null,
      "flex": null,
      "flex_flow": null,
      "grid_area": null,
      "grid_auto_columns": null,
      "grid_auto_flow": null,
      "grid_auto_rows": null,
      "grid_column": null,
      "grid_gap": null,
      "grid_row": null,
      "grid_template_areas": null,
      "grid_template_columns": null,
      "grid_template_rows": null,
      "height": null,
      "justify_content": null,
      "justify_items": null,
      "left": null,
      "margin": null,
      "max_height": null,
      "max_width": null,
      "min_height": null,
      "min_width": null,
      "object_fit": null,
      "object_position": null,
      "order": null,
      "overflow": null,
      "overflow_x": null,
      "overflow_y": null,
      "padding": null,
      "right": null,
      "top": null,
      "visibility": null,
      "width": null
     }
    },
    "bbfc3b3579b24839929e1d0c88451768": {
     "model_module": "@jupyter-widgets/base",
     "model_name": "LayoutModel",
     "state": {
      "_model_module": "@jupyter-widgets/base",
      "_model_module_version": "1.2.0",
      "_model_name": "LayoutModel",
      "_view_count": null,
      "_view_module": "@jupyter-widgets/base",
      "_view_module_version": "1.2.0",
      "_view_name": "LayoutView",
      "align_content": null,
      "align_items": null,
      "align_self": null,
      "border": null,
      "bottom": null,
      "display": null,
      "flex": null,
      "flex_flow": null,
      "grid_area": null,
      "grid_auto_columns": null,
      "grid_auto_flow": null,
      "grid_auto_rows": null,
      "grid_column": null,
      "grid_gap": null,
      "grid_row": null,
      "grid_template_areas": null,
      "grid_template_columns": null,
      "grid_template_rows": null,
      "height": null,
      "justify_content": null,
      "justify_items": null,
      "left": null,
      "margin": null,
      "max_height": null,
      "max_width": null,
      "min_height": null,
      "min_width": null,
      "object_fit": null,
      "object_position": null,
      "order": null,
      "overflow": null,
      "overflow_x": null,
      "overflow_y": null,
      "padding": null,
      "right": null,
      "top": null,
      "visibility": null,
      "width": null
     }
    },
    "c4e22af2904d431295028f15ac668cf3": {
     "model_module": "@jupyter-widgets/controls",
     "model_name": "FloatProgressModel",
     "state": {
      "_dom_classes": [],
      "_model_module": "@jupyter-widgets/controls",
      "_model_module_version": "1.5.0",
      "_model_name": "FloatProgressModel",
      "_view_count": null,
      "_view_module": "@jupyter-widgets/controls",
      "_view_module_version": "1.5.0",
      "_view_name": "ProgressView",
      "bar_style": "",
      "description": " 20%",
      "description_tooltip": null,
      "layout": "IPY_MODEL_a41ac7b150604eabb137be80fe6f9f00",
      "max": 5902,
      "min": 0,
      "orientation": "horizontal",
      "style": "IPY_MODEL_e383b7c737d74ec68ba755e412faeba8",
      "value": 1201
     }
    },
    "e383b7c737d74ec68ba755e412faeba8": {
     "model_module": "@jupyter-widgets/controls",
     "model_name": "ProgressStyleModel",
     "state": {
      "_model_module": "@jupyter-widgets/controls",
      "_model_module_version": "1.5.0",
      "_model_name": "ProgressStyleModel",
      "_view_count": null,
      "_view_module": "@jupyter-widgets/base",
      "_view_module_version": "1.2.0",
      "_view_name": "StyleView",
      "bar_color": null,
      "description_width": "initial"
     }
    },
    "e668925bf4e34e3983f89525edc3f65a": {
     "model_module": "@jupyter-widgets/base",
     "model_name": "LayoutModel",
     "state": {
      "_model_module": "@jupyter-widgets/base",
      "_model_module_version": "1.2.0",
      "_model_name": "LayoutModel",
      "_view_count": null,
      "_view_module": "@jupyter-widgets/base",
      "_view_module_version": "1.2.0",
      "_view_name": "LayoutView",
      "align_content": null,
      "align_items": null,
      "align_self": null,
      "border": null,
      "bottom": null,
      "display": null,
      "flex": null,
      "flex_flow": null,
      "grid_area": null,
      "grid_auto_columns": null,
      "grid_auto_flow": null,
      "grid_auto_rows": null,
      "grid_column": null,
      "grid_gap": null,
      "grid_row": null,
      "grid_template_areas": null,
      "grid_template_columns": null,
      "grid_template_rows": null,
      "height": null,
      "justify_content": null,
      "justify_items": null,
      "left": null,
      "margin": null,
      "max_height": null,
      "max_width": null,
      "min_height": null,
      "min_width": null,
      "object_fit": null,
      "object_position": null,
      "order": null,
      "overflow": null,
      "overflow_x": null,
      "overflow_y": null,
      "padding": null,
      "right": null,
      "top": null,
      "visibility": null,
      "width": null
     }
    }
   }
  }
 },
 "nbformat": 4,
 "nbformat_minor": 1
}
